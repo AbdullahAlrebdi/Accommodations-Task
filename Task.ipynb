{
 "cells": [
  {
   "cell_type": "markdown",
   "metadata": {},
   "source": [
    "# Accommodations Task"
   ]
  },
  {
   "cell_type": "markdown",
   "metadata": {},
   "source": [
    "***TASK:*** Using two sources (BOOKING & GOOGLE), identify duplicate accommodations from each source and combine them to generate a consolidated list of accommodations."
   ]
  },
  {
   "cell_type": "markdown",
   "metadata": {},
   "source": [
    "<!-- RAW DATA -->\n",
    "<!-- QGIS USED -->\n",
    "<img src='Assets\\photos\\visualize_data_points.png' style=\"max-width: 50%\">"
   ]
  },
  {
   "cell_type": "markdown",
   "metadata": {},
   "source": [
    "## Setup"
   ]
  },
  {
   "cell_type": "code",
   "execution_count": 1,
   "metadata": {},
   "outputs": [],
   "source": [
    "# !pip install geopandas\n",
    "# !pip install rapidfuzz\n",
    "# !pip install geopy"
   ]
  },
  {
   "cell_type": "code",
   "execution_count": 2,
   "metadata": {},
   "outputs": [],
   "source": [
    "# Import libraries \n",
    "import geopandas as gpd\n",
    "from thefuzz import fuzz\n",
    "from geopy.distance import distance"
   ]
  },
  {
   "cell_type": "code",
   "execution_count": 3,
   "metadata": {},
   "outputs": [],
   "source": [
    "# Loading the data\n",
    "with open('Assets/data/accomodations-riyadh-exercise.geojson', 'r') as file:\n",
    "    df = gpd.read_file(file)"
   ]
  },
  {
   "cell_type": "markdown",
   "metadata": {},
   "source": [
    "### Exploring & Cleaning"
   ]
  },
  {
   "cell_type": "markdown",
   "metadata": {},
   "source": [
    "#### QGIS visualiztion"
   ]
  },
  {
   "cell_type": "markdown",
   "metadata": {},
   "source": [
    "<!-- RAW DATA -->\n",
    "<!-- QGIS USED -->\n",
    "<img src='Assets\\photos\\visualize_data_points.png' style=\"max-width: 40%\">"
   ]
  },
  {
   "cell_type": "code",
   "execution_count": 4,
   "metadata": {},
   "outputs": [
    {
     "data": {
      "text/html": [
       "<div>\n",
       "<style scoped>\n",
       "    .dataframe tbody tr th:only-of-type {\n",
       "        vertical-align: middle;\n",
       "    }\n",
       "\n",
       "    .dataframe tbody tr th {\n",
       "        vertical-align: top;\n",
       "    }\n",
       "\n",
       "    .dataframe thead th {\n",
       "        text-align: right;\n",
       "    }\n",
       "</style>\n",
       "<table border=\"1\" class=\"dataframe\">\n",
       "  <thead>\n",
       "    <tr style=\"text-align: right;\">\n",
       "      <th></th>\n",
       "      <th>U_ID</th>\n",
       "      <th>DATA_SOURCE</th>\n",
       "      <th>SOURCE_IDENTIFIER</th>\n",
       "      <th>FACILITY_NAME</th>\n",
       "      <th>geometry</th>\n",
       "    </tr>\n",
       "  </thead>\n",
       "  <tbody>\n",
       "    <tr>\n",
       "      <th>1014</th>\n",
       "      <td>0</td>\n",
       "      <td>GOOGLE</td>\n",
       "      <td>ChIJ7fvoKmEDLz4R5-89l69s1g8</td>\n",
       "      <td>Fraser Suites Riyadh</td>\n",
       "      <td>POINT (46.69184 24.67921)</td>\n",
       "    </tr>\n",
       "    <tr>\n",
       "      <th>1188</th>\n",
       "      <td>0</td>\n",
       "      <td>GOOGLE</td>\n",
       "      <td>ChIJife6x50DLz4RDG90X7sNAPM</td>\n",
       "      <td>Suite Inn</td>\n",
       "      <td>POINT (46.71119 24.69406)</td>\n",
       "    </tr>\n",
       "    <tr>\n",
       "      <th>1498</th>\n",
       "      <td>0</td>\n",
       "      <td>GOOGLE</td>\n",
       "      <td>ChIJlUJ-nEkXLz4RFHdtWb1kD_E</td>\n",
       "      <td>The palm chalets</td>\n",
       "      <td>POINT (46.58615 24.55353)</td>\n",
       "    </tr>\n",
       "    <tr>\n",
       "      <th>210</th>\n",
       "      <td>3596</td>\n",
       "      <td>BOOKING</td>\n",
       "      <td>1251517</td>\n",
       "      <td>Mocador Aparthotel - Al Nuzha Branch</td>\n",
       "      <td>POINT (46.70107 24.75314)</td>\n",
       "    </tr>\n",
       "    <tr>\n",
       "      <th>1167</th>\n",
       "      <td>0</td>\n",
       "      <td>GOOGLE</td>\n",
       "      <td>ChIJwxQ4WRwHLz4RkH18UEBMZ_w</td>\n",
       "      <td>Liwan Gulf Hotel Suites</td>\n",
       "      <td>POINT (46.78982 24.68302)</td>\n",
       "    </tr>\n",
       "  </tbody>\n",
       "</table>\n",
       "</div>"
      ],
      "text/plain": [
       "      U_ID DATA_SOURCE            SOURCE_IDENTIFIER  \\\n",
       "1014     0      GOOGLE  ChIJ7fvoKmEDLz4R5-89l69s1g8   \n",
       "1188     0      GOOGLE  ChIJife6x50DLz4RDG90X7sNAPM   \n",
       "1498     0      GOOGLE  ChIJlUJ-nEkXLz4RFHdtWb1kD_E   \n",
       "210   3596     BOOKING                      1251517   \n",
       "1167     0      GOOGLE  ChIJwxQ4WRwHLz4RkH18UEBMZ_w   \n",
       "\n",
       "                             FACILITY_NAME                   geometry  \n",
       "1014                  Fraser Suites Riyadh  POINT (46.69184 24.67921)  \n",
       "1188                             Suite Inn  POINT (46.71119 24.69406)  \n",
       "1498                      The palm chalets  POINT (46.58615 24.55353)  \n",
       "210   Mocador Aparthotel - Al Nuzha Branch  POINT (46.70107 24.75314)  \n",
       "1167               Liwan Gulf Hotel Suites  POINT (46.78982 24.68302)  "
      ]
     },
     "execution_count": 4,
     "metadata": {},
     "output_type": "execute_result"
    }
   ],
   "source": [
    "df.sample(5)"
   ]
  },
  {
   "cell_type": "code",
   "execution_count": 5,
   "metadata": {},
   "outputs": [
    {
     "name": "stdout",
     "output_type": "stream",
     "text": [
      "<class 'geopandas.geodataframe.GeoDataFrame'>\n",
      "RangeIndex: 1578 entries, 0 to 1577\n",
      "Data columns (total 5 columns):\n",
      " #   Column             Non-Null Count  Dtype   \n",
      "---  ------             --------------  -----   \n",
      " 0   U_ID               1578 non-null   int32   \n",
      " 1   DATA_SOURCE        1578 non-null   object  \n",
      " 2   SOURCE_IDENTIFIER  1578 non-null   object  \n",
      " 3   FACILITY_NAME      1578 non-null   object  \n",
      " 4   geometry           1578 non-null   geometry\n",
      "dtypes: geometry(1), int32(1), object(3)\n",
      "memory usage: 55.6+ KB\n"
     ]
    }
   ],
   "source": [
    "df.info()"
   ]
  },
  {
   "cell_type": "code",
   "execution_count": 6,
   "metadata": {},
   "outputs": [
    {
     "data": {
      "text/plain": [
       "DATA_SOURCE\n",
       "BOOKING    879\n",
       "GOOGLE     699\n",
       "Name: count, dtype: int64"
      ]
     },
     "execution_count": 6,
     "metadata": {},
     "output_type": "execute_result"
    }
   ],
   "source": [
    "df['DATA_SOURCE'].value_counts()"
   ]
  },
  {
   "cell_type": "code",
   "execution_count": 7,
   "metadata": {},
   "outputs": [
    {
     "data": {
      "text/plain": [
       "U_ID\n",
       "0       699\n",
       "1240      1\n",
       "699       1\n",
       "2547      1\n",
       "2693      1\n",
       "       ... \n",
       "2755      1\n",
       "2888      1\n",
       "2674      1\n",
       "2727      1\n",
       "4108      1\n",
       "Name: count, Length: 880, dtype: int64"
      ]
     },
     "execution_count": 7,
     "metadata": {},
     "output_type": "execute_result"
    }
   ],
   "source": [
    "# gdf = df.drop(columns=['U_ID'])\n",
    "df['U_ID'].value_counts()\n"
   ]
  },
  {
   "cell_type": "code",
   "execution_count": 8,
   "metadata": {},
   "outputs": [
    {
     "name": "stdout",
     "output_type": "stream",
     "text": [
      "\"0\" as an id: 699\n",
      "\"0\" as an id FROM GOOGLE: 699\n"
     ]
    }
   ],
   "source": [
    "print(f'\"0\" as an id: {(df[\"U_ID\"] == 0).sum()}')\n",
    "print(f'\"0\" as an id FROM GOOGLE: {((df[\"U_ID\"] == 0) & (df[\"DATA_SOURCE\"] == \"GOOGLE\")).sum()}')"
   ]
  },
  {
   "cell_type": "code",
   "execution_count": 9,
   "metadata": {},
   "outputs": [],
   "source": [
    "# # Drop U_ID\n",
    "# df = df.drop(columns=['U_ID'])"
   ]
  },
  {
   "cell_type": "code",
   "execution_count": 10,
   "metadata": {},
   "outputs": [],
   "source": [
    "# Making sure SOURCE_IDENTIFIER is not needed\n",
    "# df['SOURCE_IDENTIFIER'].value_counts().max()"
   ]
  },
  {
   "cell_type": "code",
   "execution_count": 11,
   "metadata": {},
   "outputs": [],
   "source": [
    "# Drop SOURCE_IDENTIFIER\n",
    "# df = df.drop(columns=['SOURCE_IDENTIFIER'])"
   ]
  },
  {
   "cell_type": "code",
   "execution_count": 12,
   "metadata": {},
   "outputs": [
    {
     "data": {
      "text/html": [
       "<div>\n",
       "<style scoped>\n",
       "    .dataframe tbody tr th:only-of-type {\n",
       "        vertical-align: middle;\n",
       "    }\n",
       "\n",
       "    .dataframe tbody tr th {\n",
       "        vertical-align: top;\n",
       "    }\n",
       "\n",
       "    .dataframe thead th {\n",
       "        text-align: right;\n",
       "    }\n",
       "</style>\n",
       "<table border=\"1\" class=\"dataframe\">\n",
       "  <thead>\n",
       "    <tr style=\"text-align: right;\">\n",
       "      <th></th>\n",
       "      <th>U_ID</th>\n",
       "      <th>DATA_SOURCE</th>\n",
       "      <th>SOURCE_IDENTIFIER</th>\n",
       "      <th>FACILITY_NAME</th>\n",
       "      <th>geometry</th>\n",
       "    </tr>\n",
       "  </thead>\n",
       "  <tbody>\n",
       "    <tr>\n",
       "      <th>883</th>\n",
       "      <td>0</td>\n",
       "      <td>GOOGLE</td>\n",
       "      <td>ChIJ-6h4WHYDLz4RGg30Xeah6no</td>\n",
       "      <td>Garden City 1 Furnished Apartments</td>\n",
       "      <td>POINT (46.7066 24.69208)</td>\n",
       "    </tr>\n",
       "    <tr>\n",
       "      <th>1344</th>\n",
       "      <td>0</td>\n",
       "      <td>GOOGLE</td>\n",
       "      <td>ChIJhRszH1IdLz4RUCbIsXBcPmI</td>\n",
       "      <td>Farnas Furnished Apartment</td>\n",
       "      <td>POINT (46.66609 24.73268)</td>\n",
       "    </tr>\n",
       "    <tr>\n",
       "      <th>632</th>\n",
       "      <td>2633</td>\n",
       "      <td>BOOKING</td>\n",
       "      <td>6011521</td>\n",
       "      <td>فيفيان بارك للأجنحة الفندقية</td>\n",
       "      <td>POINT (46.78698 24.68336)</td>\n",
       "    </tr>\n",
       "  </tbody>\n",
       "</table>\n",
       "</div>"
      ],
      "text/plain": [
       "      U_ID DATA_SOURCE            SOURCE_IDENTIFIER  \\\n",
       "883      0      GOOGLE  ChIJ-6h4WHYDLz4RGg30Xeah6no   \n",
       "1344     0      GOOGLE  ChIJhRszH1IdLz4RUCbIsXBcPmI   \n",
       "632   2633     BOOKING                      6011521   \n",
       "\n",
       "                           FACILITY_NAME                   geometry  \n",
       "883   Garden City 1 Furnished Apartments   POINT (46.7066 24.69208)  \n",
       "1344          Farnas Furnished Apartment  POINT (46.66609 24.73268)  \n",
       "632         فيفيان بارك للأجنحة الفندقية  POINT (46.78698 24.68336)  "
      ]
     },
     "execution_count": 12,
     "metadata": {},
     "output_type": "execute_result"
    }
   ],
   "source": [
    "df.sample(3)"
   ]
  },
  {
   "cell_type": "markdown",
   "metadata": {},
   "source": [
    "#### Handeling duplicates"
   ]
  },
  {
   "cell_type": "code",
   "execution_count": 13,
   "metadata": {},
   "outputs": [],
   "source": [
    "# NNormilazing the text\n",
    "df['FACILITY_NAME'] = df['FACILITY_NAME'].str.lower()"
   ]
  },
  {
   "cell_type": "markdown",
   "metadata": {},
   "source": [
    "##### Removing exact duplicates"
   ]
  },
  {
   "cell_type": "code",
   "execution_count": 14,
   "metadata": {},
   "outputs": [
    {
     "data": {
      "text/plain": [
       "0"
      ]
     },
     "execution_count": 14,
     "metadata": {},
     "output_type": "execute_result"
    }
   ],
   "source": [
    "# Check exact duplicates inside Google rows\n",
    "df[df[\"DATA_SOURCE\"] == 'GOOGLE'].duplicated(subset=['FACILITY_NAME', 'geometry']).sum()"
   ]
  },
  {
   "cell_type": "code",
   "execution_count": 15,
   "metadata": {},
   "outputs": [
    {
     "data": {
      "text/plain": [
       "0"
      ]
     },
     "execution_count": 15,
     "metadata": {},
     "output_type": "execute_result"
    }
   ],
   "source": [
    "# Check exact duplicates inside Booking rows\n",
    "df[df[\"DATA_SOURCE\"] == 'BOOKING'].duplicated(subset=['FACILITY_NAME', 'geometry']).sum()"
   ]
  },
  {
   "cell_type": "markdown",
   "metadata": {},
   "source": [
    "There are no exact duplicates within their respective classes"
   ]
  },
  {
   "cell_type": "code",
   "execution_count": 16,
   "metadata": {},
   "outputs": [
    {
     "data": {
      "text/plain": [
       "0"
      ]
     },
     "execution_count": 16,
     "metadata": {},
     "output_type": "execute_result"
    }
   ],
   "source": [
    "# Check exact duplicates on both data sources\n",
    "df.duplicated(subset=['FACILITY_NAME', 'geometry']).sum()"
   ]
  },
  {
   "cell_type": "markdown",
   "metadata": {},
   "source": [
    "There are no exact duplicates across both GOOGLE and BOOKING data sources based on `FACILITY_NAME` and `geometry`"
   ]
  },
  {
   "cell_type": "markdown",
   "metadata": {},
   "source": [
    "##### Removing near duplicates"
   ]
  },
  {
   "cell_type": "code",
   "execution_count": 21,
   "metadata": {},
   "outputs": [],
   "source": [
    "threshold_similarity = 80  # threshold for similarity score\n",
    "threshold_distance = 30   # threshold for spatial distance in meters"
   ]
  },
  {
   "cell_type": "code",
   "execution_count": 18,
   "metadata": {},
   "outputs": [],
   "source": [
    "def calculate_similarity(name1, name2):\n",
    "    return fuzz.partial_ratio(name1, name2)\n",
    "\n",
    "def calculate_distance(coords1, coords2):\n",
    "    return distance(coords1, coords2).meters"
   ]
  },
  {
   "cell_type": "code",
   "execution_count": 19,
   "metadata": {},
   "outputs": [],
   "source": [
    "df.sindex\n",
    "df = df.to_crs(epsg=32632)"
   ]
  },
  {
   "cell_type": "code",
   "execution_count": 22,
   "metadata": {},
   "outputs": [
    {
     "data": {
      "text/html": [
       "<div>\n",
       "<style scoped>\n",
       "    .dataframe tbody tr th:only-of-type {\n",
       "        vertical-align: middle;\n",
       "    }\n",
       "\n",
       "    .dataframe tbody tr th {\n",
       "        vertical-align: top;\n",
       "    }\n",
       "\n",
       "    .dataframe thead th {\n",
       "        text-align: right;\n",
       "    }\n",
       "</style>\n",
       "<table border=\"1\" class=\"dataframe\">\n",
       "  <thead>\n",
       "    <tr style=\"text-align: right;\">\n",
       "      <th></th>\n",
       "      <th>U_ID</th>\n",
       "      <th>DATA_SOURCE</th>\n",
       "      <th>SOURCE_IDENTIFIER</th>\n",
       "      <th>FACILITY_NAME</th>\n",
       "      <th>geometry</th>\n",
       "    </tr>\n",
       "  </thead>\n",
       "  <tbody>\n",
       "    <tr>\n",
       "      <th>0</th>\n",
       "      <td>3802</td>\n",
       "      <td>BOOKING</td>\n",
       "      <td>8606014</td>\n",
       "      <td>arid h -6 luxury gold balcony az79</td>\n",
       "      <td>POINT (4481536.22 3362349.288)</td>\n",
       "    </tr>\n",
       "    <tr>\n",
       "      <th>1</th>\n",
       "      <td>4236</td>\n",
       "      <td>BOOKING</td>\n",
       "      <td>6071063</td>\n",
       "      <td>badeel</td>\n",
       "      <td>POINT (4504859.21 3325241.355)</td>\n",
       "    </tr>\n",
       "    <tr>\n",
       "      <th>2</th>\n",
       "      <td>2922</td>\n",
       "      <td>BOOKING</td>\n",
       "      <td>5714353</td>\n",
       "      <td>180 executive suites alnarjes</td>\n",
       "      <td>POINT (4488998.136 3359441.188)</td>\n",
       "    </tr>\n",
       "    <tr>\n",
       "      <th>3</th>\n",
       "      <td>2561</td>\n",
       "      <td>BOOKING</td>\n",
       "      <td>2331549</td>\n",
       "      <td>al eairy apartments - al riyad 4</td>\n",
       "      <td>POINT (4509287.631 3329295.503)</td>\n",
       "    </tr>\n",
       "    <tr>\n",
       "      <th>4</th>\n",
       "      <td>2564</td>\n",
       "      <td>BOOKING</td>\n",
       "      <td>6026585</td>\n",
       "      <td>almakan suites 111</td>\n",
       "      <td>POINT (4505865.665 3329531.321)</td>\n",
       "    </tr>\n",
       "    <tr>\n",
       "      <th>...</th>\n",
       "      <td>...</td>\n",
       "      <td>...</td>\n",
       "      <td>...</td>\n",
       "      <td>...</td>\n",
       "      <td>...</td>\n",
       "    </tr>\n",
       "    <tr>\n",
       "      <th>1409</th>\n",
       "      <td>0</td>\n",
       "      <td>GOOGLE</td>\n",
       "      <td>ChIJ_ziB6_QDLz4R0ByM3wjdKP0</td>\n",
       "      <td>صيدلية بيت الصحة ( انوفا ) - health house phar...</td>\n",
       "      <td>POINT (4500163.949 3350120.522)</td>\n",
       "    </tr>\n",
       "    <tr>\n",
       "      <th>1410</th>\n",
       "      <td>0</td>\n",
       "      <td>GOOGLE</td>\n",
       "      <td>ChIJhWLNgj8FLz4RSwYLBsS4RCU</td>\n",
       "      <td>vivienda hotel villas accommodation</td>\n",
       "      <td>POINT (4496868.538 3333735.233)</td>\n",
       "    </tr>\n",
       "    <tr>\n",
       "      <th>1411</th>\n",
       "      <td>0</td>\n",
       "      <td>GOOGLE</td>\n",
       "      <td>ChIJT-Ue9eH_Lj4RJtUkKfY5aTs</td>\n",
       "      <td>عائلة البكري</td>\n",
       "      <td>POINT (4500823.34 3354025.228)</td>\n",
       "    </tr>\n",
       "    <tr>\n",
       "      <th>1412</th>\n",
       "      <td>0</td>\n",
       "      <td>GOOGLE</td>\n",
       "      <td>ChIJ3Sil7MoBLz4RNDJTI4kUVr4</td>\n",
       "      <td>white house</td>\n",
       "      <td>POINT (4503029.782 3350416.581)</td>\n",
       "    </tr>\n",
       "    <tr>\n",
       "      <th>1413</th>\n",
       "      <td>0</td>\n",
       "      <td>GOOGLE</td>\n",
       "      <td>ChIJidH6ZR2hLz4RNqd0M4uQoTI</td>\n",
       "      <td>unimed</td>\n",
       "      <td>POINT (4522337.218 3329667.663)</td>\n",
       "    </tr>\n",
       "  </tbody>\n",
       "</table>\n",
       "<p>1414 rows × 5 columns</p>\n",
       "</div>"
      ],
      "text/plain": [
       "      U_ID DATA_SOURCE            SOURCE_IDENTIFIER  \\\n",
       "0     3802     BOOKING                      8606014   \n",
       "1     4236     BOOKING                      6071063   \n",
       "2     2922     BOOKING                      5714353   \n",
       "3     2561     BOOKING                      2331549   \n",
       "4     2564     BOOKING                      6026585   \n",
       "...    ...         ...                          ...   \n",
       "1409     0      GOOGLE  ChIJ_ziB6_QDLz4R0ByM3wjdKP0   \n",
       "1410     0      GOOGLE  ChIJhWLNgj8FLz4RSwYLBsS4RCU   \n",
       "1411     0      GOOGLE  ChIJT-Ue9eH_Lj4RJtUkKfY5aTs   \n",
       "1412     0      GOOGLE  ChIJ3Sil7MoBLz4RNDJTI4kUVr4   \n",
       "1413     0      GOOGLE  ChIJidH6ZR2hLz4RNqd0M4uQoTI   \n",
       "\n",
       "                                          FACILITY_NAME  \\\n",
       "0                    arid h -6 luxury gold balcony az79   \n",
       "1                                                badeel   \n",
       "2                         180 executive suites alnarjes   \n",
       "3                      al eairy apartments - al riyad 4   \n",
       "4                                    almakan suites 111   \n",
       "...                                                 ...   \n",
       "1409  صيدلية بيت الصحة ( انوفا ) - health house phar...   \n",
       "1410                vivienda hotel villas accommodation   \n",
       "1411                                       عائلة البكري   \n",
       "1412                                        white house   \n",
       "1413                                             unimed   \n",
       "\n",
       "                             geometry  \n",
       "0      POINT (4481536.22 3362349.288)  \n",
       "1      POINT (4504859.21 3325241.355)  \n",
       "2     POINT (4488998.136 3359441.188)  \n",
       "3     POINT (4509287.631 3329295.503)  \n",
       "4     POINT (4505865.665 3329531.321)  \n",
       "...                               ...  \n",
       "1409  POINT (4500163.949 3350120.522)  \n",
       "1410  POINT (4496868.538 3333735.233)  \n",
       "1411   POINT (4500823.34 3354025.228)  \n",
       "1412  POINT (4503029.782 3350416.581)  \n",
       "1413  POINT (4522337.218 3329667.663)  \n",
       "\n",
       "[1414 rows x 5 columns]"
      ]
     },
     "execution_count": 22,
     "metadata": {},
     "output_type": "execute_result"
    }
   ],
   "source": [
    "non_near_duplicates = []\n",
    "\n",
    "for idx, row in df.iterrows():\n",
    "    \n",
    "    nearby_idx = list(df.sindex.intersection(row.geometry.buffer(threshold_distance).bounds))\n",
    "    nearby = df.iloc[nearby_idx].copy()\n",
    "    \n",
    "    nearby['name_similarity'] = nearby['FACILITY_NAME'].apply(calculate_similarity, args=(row['FACILITY_NAME'],))\n",
    "    \n",
    "    filtered_nearby = nearby[\n",
    "        (nearby['name_similarity'] >= threshold_similarity) & \n",
    "        (nearby.geometry.distance(row.geometry) <= threshold_distance) & \n",
    "        (nearby['DATA_SOURCE'] != row['DATA_SOURCE'])\n",
    "    ]\n",
    "    \n",
    "    if filtered_nearby.empty:\n",
    "        non_near_duplicates.append(row.to_dict())\n",
    "\n",
    "non_near_duplicates_df = gpd.GeoDataFrame(non_near_duplicates, crs=df.crs)\n",
    "non_near_duplicates_df"
   ]
  },
  {
   "cell_type": "code",
   "execution_count": 24,
   "metadata": {},
   "outputs": [],
   "source": [
    "non_near_duplicates_df.to_file('Assets/data/non_near_duplicates.geojson', driver='GeoJSON')"
   ]
  },
  {
   "cell_type": "code",
   "execution_count": 25,
   "metadata": {},
   "outputs": [
    {
     "name": "stdout",
     "output_type": "stream",
     "text": [
      "The Tottal number of cleaned data is 1414\n"
     ]
    }
   ],
   "source": [
    "print(f'The Tottal number of cleaned data is {len(non_near_duplicates_df)}')"
   ]
  },
  {
   "cell_type": "code",
   "execution_count": null,
   "metadata": {},
   "outputs": [],
   "source": []
  }
 ],
 "metadata": {
  "kernelspec": {
   "display_name": "base",
   "language": "python",
   "name": "python3"
  },
  "language_info": {
   "codemirror_mode": {
    "name": "ipython",
    "version": 3
   },
   "file_extension": ".py",
   "mimetype": "text/x-python",
   "name": "python",
   "nbconvert_exporter": "python",
   "pygments_lexer": "ipython3",
   "version": "3.11.7"
  }
 },
 "nbformat": 4,
 "nbformat_minor": 2
}
